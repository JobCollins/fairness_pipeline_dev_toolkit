{
 "cells": [
  {
   "cell_type": "code",
   "execution_count": 2,
   "id": "intro",
   "metadata": {},
   "outputs": [
    {
     "name": "stdout",
     "output_type": "stream",
     "text": [
      "Toolkit imports OK.\n"
     ]
    }
   ],
   "source": [
    "# Demo: Fairness Pipeline Development Toolkit (Measurement + Pipeline)\n",
    "from pathlib import Path\n",
    "import json\n",
    "import pandas as pd\n",
    "\n",
    "from fairness_pipeline_dev_toolkit.pipeline.config import load_config, PipelineConfig\n",
    "from fairness_pipeline_dev_toolkit.pipeline.orchestration.engine import run_detectors, build_pipeline, apply_pipeline\n",
    "\n",
    "print(\"Toolkit imports OK.\")"
   ]
  },
  {
   "cell_type": "code",
   "execution_count": 3,
   "id": "dataframe",
   "metadata": {},
   "outputs": [
    {
     "data": {
      "text/html": [
       "<div>\n",
       "<style scoped>\n",
       "    .dataframe tbody tr th:only-of-type {\n",
       "        vertical-align: middle;\n",
       "    }\n",
       "\n",
       "    .dataframe tbody tr th {\n",
       "        vertical-align: top;\n",
       "    }\n",
       "\n",
       "    .dataframe thead th {\n",
       "        text-align: right;\n",
       "    }\n",
       "</style>\n",
       "<table border=\"1\" class=\"dataframe\">\n",
       "  <thead>\n",
       "    <tr style=\"text-align: right;\">\n",
       "      <th></th>\n",
       "      <th>group</th>\n",
       "      <th>x1</th>\n",
       "      <th>x2</th>\n",
       "      <th>y</th>\n",
       "    </tr>\n",
       "  </thead>\n",
       "  <tbody>\n",
       "    <tr>\n",
       "      <th>0</th>\n",
       "      <td>A</td>\n",
       "      <td>0.10</td>\n",
       "      <td>1</td>\n",
       "      <td>0</td>\n",
       "    </tr>\n",
       "    <tr>\n",
       "      <th>1</th>\n",
       "      <td>A</td>\n",
       "      <td>0.20</td>\n",
       "      <td>2</td>\n",
       "      <td>1</td>\n",
       "    </tr>\n",
       "    <tr>\n",
       "      <th>2</th>\n",
       "      <td>B</td>\n",
       "      <td>0.30</td>\n",
       "      <td>3</td>\n",
       "      <td>0</td>\n",
       "    </tr>\n",
       "    <tr>\n",
       "      <th>3</th>\n",
       "      <td>B</td>\n",
       "      <td>0.40</td>\n",
       "      <td>3</td>\n",
       "      <td>1</td>\n",
       "    </tr>\n",
       "    <tr>\n",
       "      <th>4</th>\n",
       "      <td>A</td>\n",
       "      <td>0.15</td>\n",
       "      <td>2</td>\n",
       "      <td>0</td>\n",
       "    </tr>\n",
       "  </tbody>\n",
       "</table>\n",
       "</div>"
      ],
      "text/plain": [
       "  group    x1  x2  y\n",
       "0     A  0.10   1  0\n",
       "1     A  0.20   2  1\n",
       "2     B  0.30   3  0\n",
       "3     B  0.40   3  1\n",
       "4     A  0.15   2  0"
      ]
     },
     "execution_count": 3,
     "metadata": {},
     "output_type": "execute_result"
    }
   ],
   "source": [
    "# Prepare a small demo dataframe\n",
    "df = pd.DataFrame({\n",
    "    \"group\": [\"A\",\"A\",\"B\",\"B\",\"A\",\"B\",\"A\",\"B\",\"A\",\"B\"],\n",
    "    \"x1\":    [0.1,0.2,0.3,0.4,0.15,0.35,0.12,0.33,0.18,0.28],\n",
    "    \"x2\":    [1,2,3,3,2,3,1,2,2,3],\n",
    "    \"y\":     [0,1,0,1,0,1,0,1,0,1],\n",
    "})\n",
    "df.head()"
   ]
  },
  {
   "cell_type": "code",
   "execution_count": 4,
   "id": "config",
   "metadata": {},
   "outputs": [
    {
     "data": {
      "text/plain": [
       "PipelineConfig(sensitive=['group'], benchmarks={'group': {'A': 0.5, 'B': 0.5}}, alpha=0.05, proxy_threshold=0.3, report_out='artifacts_demo_report.json', pipeline=[PipelineStep(name='reweigh', transformer='InstanceReweighting', params={}), PipelineStep(name='di', transformer='DisparateImpactRemover', params={'features': ['x1'], 'sensitive': 'group', 'repair_level': 0.8})])"
      ]
     },
     "execution_count": 4,
     "metadata": {},
     "output_type": "execute_result"
    }
   ],
   "source": [
    "# Build a config in-memory (mirrors your YAML schema)\n",
    "cfg_text = '''\n",
    "sensitive: [\"group\"]\n",
    "alpha: 0.05\n",
    "proxy_threshold: 0.30\n",
    "report_out: \"artifacts_demo_report.json\"\n",
    "benchmarks:\n",
    "  group: {A: 0.5, B: 0.5}\n",
    "pipeline:\n",
    "  - name: reweigh\n",
    "    transformer: \"InstanceReweighting\"\n",
    "    params: {}\n",
    "  - name: di\n",
    "    transformer: \"DisparateImpactRemover\"\n",
    "    params:\n",
    "      features: [\"x1\"]\n",
    "      sensitive: \"group\"\n",
    "      repair_level: 0.8\n",
    "'''\n",
    "cfg = load_config(text=cfg_text)\n",
    "cfg"
   ]
  },
  {
   "cell_type": "code",
   "execution_count": 5,
   "id": "detectors",
   "metadata": {},
   "outputs": [
    {
     "name": "stdout",
     "output_type": "stream",
     "text": [
      "{\n",
      "  \"meta\": {\n",
      "    \"phase\": \"0\",\n",
      "    \"alpha\": 0.05,\n",
      "    \"proxy_threshold\": 0.3\n",
      "  },\n",
      "  \"summary\": {\n",
      "    \"sensitive\": [\n",
      "      \"group\"\n",
      "    ],\n",
      "    \"alpha\": 0.05,\n",
      "    \"proxy_threshold\": 0.3,\n",
      "    \"representation_flags\": 0,\n",
      "    \"disparity_flags\": 2,\n",
      "    \"proxy_flags\": 3\n",
      "  },\n",
      "  \"representation\": [\n",
      "    {\n",
      "      \"attribute\": \"group\",\n",
      "      \"counts\": {\n",
      "        \"A\": 5,\n",
      "        \"B\": 5\n",
      "      },\n",
      "      \"proportions\": {\n",
      "        \"A\": 0.5,\n",
      "        \"B\": 0.5\n",
      "      },\n",
      "      \"benchmark\": {\n",
      "        \"A\": 0.5,\n",
      "        \"B\": 0.5\n",
      "      },\n",
      "      \"chi2_pvalue\": 1.0,\n",
      "      \"flagged\": false\n",
      "    }\n",
      "  ],\n",
      "  \"disparities\": [\n",
      "    {\n",
      "      \"feature\": \"x1\",\n",
      "      \"attribute\": \"group\",\n",
      "      \"test\": \"anova\",\n",
      "      \"pvalue\": 0.00018000524340134393,\n",
      "      \"flagged\": true\n",
      "    },\n",
      "    {\n",
      "      \"feature\": \"x2\",\n",
      "      \"attribute\": \"group\",\n",
      "      \"test\": \"chi2\",\n",
      "      \"pvalue\": 0.0301973834223185,\n",
      "      \"flagged\": true\n",
      "    },\n",
      "    {\n",
      "      \"feature\": \"y\",\n",
      "      \"attribute\": \"group\",\n",
      "      \"test\": \"chi2\",\n",
      "      \"pvalue\": 0.05777957112359719,\n",
      "...\n"
     ]
    }
   ],
   "source": [
    "# Run detectors (representation / disparities / proxies)\n",
    "det_report = run_detectors(df, cfg)\n",
    "print(json.dumps(det_report.to_dict(), indent=2)[:1000] + \"\\n...\")"
   ]
  },
  {
   "cell_type": "code",
   "execution_count": 6,
   "id": "pipeline",
   "metadata": {},
   "outputs": [
    {
     "name": "stdout",
     "output_type": "stream",
     "text": [
      "Transformed shape: (10, 4)\n",
      "Artifacts: {'sample_weight': array([1., 1., 1., 1., 1., 1., 1., 1., 1., 1.])}\n"
     ]
    },
    {
     "data": {
      "text/html": [
       "<div>\n",
       "<style scoped>\n",
       "    .dataframe tbody tr th:only-of-type {\n",
       "        vertical-align: middle;\n",
       "    }\n",
       "\n",
       "    .dataframe tbody tr th {\n",
       "        vertical-align: top;\n",
       "    }\n",
       "\n",
       "    .dataframe thead th {\n",
       "        text-align: right;\n",
       "    }\n",
       "</style>\n",
       "<table border=\"1\" class=\"dataframe\">\n",
       "  <thead>\n",
       "    <tr style=\"text-align: right;\">\n",
       "      <th></th>\n",
       "      <th>group</th>\n",
       "      <th>x1</th>\n",
       "      <th>x2</th>\n",
       "      <th>y</th>\n",
       "    </tr>\n",
       "  </thead>\n",
       "  <tbody>\n",
       "    <tr>\n",
       "      <th>0</th>\n",
       "      <td>A</td>\n",
       "      <td>0.10</td>\n",
       "      <td>1</td>\n",
       "      <td>0</td>\n",
       "    </tr>\n",
       "    <tr>\n",
       "      <th>1</th>\n",
       "      <td>A</td>\n",
       "      <td>0.20</td>\n",
       "      <td>2</td>\n",
       "      <td>1</td>\n",
       "    </tr>\n",
       "    <tr>\n",
       "      <th>2</th>\n",
       "      <td>B</td>\n",
       "      <td>0.30</td>\n",
       "      <td>3</td>\n",
       "      <td>0</td>\n",
       "    </tr>\n",
       "    <tr>\n",
       "      <th>3</th>\n",
       "      <td>B</td>\n",
       "      <td>0.40</td>\n",
       "      <td>3</td>\n",
       "      <td>1</td>\n",
       "    </tr>\n",
       "    <tr>\n",
       "      <th>4</th>\n",
       "      <td>A</td>\n",
       "      <td>0.15</td>\n",
       "      <td>2</td>\n",
       "      <td>0</td>\n",
       "    </tr>\n",
       "  </tbody>\n",
       "</table>\n",
       "</div>"
      ],
      "text/plain": [
       "  group    x1  x2  y\n",
       "0     A  0.10   1  0\n",
       "1     A  0.20   2  1\n",
       "2     B  0.30   3  0\n",
       "3     B  0.40   3  1\n",
       "4     A  0.15   2  0"
      ]
     },
     "execution_count": 6,
     "metadata": {},
     "output_type": "execute_result"
    }
   ],
   "source": [
    "# Build and apply pipeline\n",
    "pipe = build_pipeline(cfg)\n",
    "df_out, artifacts = apply_pipeline(pipe, df)\n",
    "print(\"Transformed shape:\", df_out.shape)\n",
    "print(\"Artifacts:\", artifacts)\n",
    "df_out.head()"
   ]
  },
  {
   "cell_type": "code",
   "execution_count": 7,
   "id": "mlflow",
   "metadata": {},
   "outputs": [
    {
     "name": "stdout",
     "output_type": "stream",
     "text": [
      "MLflow not available or logging failed (skipped): cannot import name 'log_fairness' from 'fairness_pipeline_dev_toolkit.integration.mlflow_logger' (/Users/jobdulo/Documents/Turing/Sprint 4/fairness_pipeline_dev_toolkit/fairness_pipeline_dev_toolkit/integration/mlflow_logger.py)\n"
     ]
    }
   ],
   "source": [
    "# Optional: log to MLflow if available\n",
    "try:\n",
    "    import mlflow\n",
    "    from fairness_pipeline_dev_toolkit.integration.mlflow_logger import log_fairness\n",
    "\n",
    "    mlflow.set_experiment(\"fairness_demo\")\n",
    "    with mlflow.start_run(run_name=\"phase5_demo\"):\n",
    "        log_fairness(det_report.to_dict())\n",
    "    print(\"Logged fairness report to MLflow run.\")\n",
    "except Exception as e:\n",
    "    print(\"MLflow not available or logging failed (skipped):\", e)"
   ]
  },
  {
   "cell_type": "code",
   "execution_count": null,
   "id": "d35c3d2f",
   "metadata": {},
   "outputs": [],
   "source": []
  }
 ],
 "metadata": {
  "kernelspec": {
   "display_name": ".venv",
   "language": "python",
   "name": "python3"
  },
  "language_info": {
   "codemirror_mode": {
    "name": "ipython",
    "version": 3
   },
   "file_extension": ".py",
   "mimetype": "text/x-python",
   "name": "python",
   "nbconvert_exporter": "python",
   "pygments_lexer": "ipython3",
   "version": "3.12.5"
  }
 },
 "nbformat": 4,
 "nbformat_minor": 5
}
