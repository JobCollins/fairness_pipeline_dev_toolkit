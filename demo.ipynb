{
 "cells": [
  {
   "cell_type": "markdown",
   "id": "2ee83ec4",
   "metadata": {},
   "source": [
    "# Fairness Toolkit Demo (v0.1.0)\n",
    "\n",
    "This notebook demonstrates metric computation, simple reporting, and optional MLflow logging for the Measurement Module."
   ]
  },
  {
   "cell_type": "code",
   "execution_count": null,
   "id": "eddb6ccd",
   "metadata": {},
   "outputs": [],
   "source": [
    "import numpy as np\n",
    "import pandas as pd\n",
    "from fairness_pipeline_dev_toolkit.metrics import FairnessAnalyzer\n",
    "from fairness_pipeline_dev_toolkit.integration.reporting import to_markdown_report\n",
    "\n",
    "print(\"Versions:\")\n",
    "import fairness_pipeline_dev_toolkit as fpt\n",
    "print(\"fairness_pipeline_dev_toolkit:\", getattr(fpt, \"__version__\", \"dev\"))\n",
    "import sys\n",
    "print(\"python:\", sys.version)\n"
   ]
  },
  {
   "cell_type": "markdown",
   "id": "0059f215",
   "metadata": {},
   "source": [
    "## Load Sample Data\n",
    "You can adjust this path to point at a real dataset later."
   ]
  },
  {
   "cell_type": "code",
   "execution_count": null,
   "id": "8e1de977",
   "metadata": {},
   "outputs": [],
   "source": [
    "import os\n",
    "path = \"tests/fixtures/e2e_sample.csv\" if os.path.exists(\"tests/fixtures/e2e_sample.csv\") else \"dev_sample.csv\"\n",
    "df = pd.read_csv(path)\n",
    "df.head()"
   ]
  },
  {
   "cell_type": "markdown",
   "id": "3ebfcd7a",
   "metadata": {},
   "source": [
    "## Compute Metrics\n",
    "- `demographic_parity_difference` (classification)\n",
    "- `equalized_odds_difference` (classification)\n",
    "- `mae_parity_difference` (regression-style using `score` vs `y_true`)"
   ]
  },
  {
   "cell_type": "code",
   "execution_count": null,
   "id": "992d83f0",
   "metadata": {},
   "outputs": [],
   "source": [
    "fa = FairnessAnalyzer(min_group_size=2, backend=\"native\")\n",
    "results = {}\n",
    "results[\"demographic_parity_difference\"] = fa.demographic_parity_difference(\n",
    "    y_pred=df[\"y_pred\"].to_numpy(), sensitive=df[\"group\"].to_numpy()\n",
    ")\n",
    "results[\"equalized_odds_difference\"] = fa.equalized_odds_difference(\n",
    "    y_true=df[\"y_true\"].to_numpy(), y_pred=df[\"y_pred\"].to_numpy(), sensitive=df[\"group\"].to_numpy()\n",
    ")\n",
    "results[\"mae_parity_difference\"] = fa.mae_parity_difference(\n",
    "    y_true=df[\"y_true\"].to_numpy().astype(float),\n",
    "    y_pred=df[\"score\"].to_numpy().astype(float),\n",
    "    sensitive=df[\"group\"].to_numpy(),\n",
    ")\n",
    "results"
   ]
  },
  {
   "cell_type": "markdown",
   "id": "c80191ce",
   "metadata": {},
   "source": [
    "## Markdown Report\n",
    "A quick human-readable summary for PRs or artifacts."
   ]
  },
  {
   "cell_type": "code",
   "execution_count": null,
   "id": "8614ab4b",
   "metadata": {},
   "outputs": [],
   "source": [
    "md = to_markdown_report(results, title=\"Fairness Demo Report\")\n",
    "print(md)\n",
    "\n",
    "# Optional: save\n",
    "with open(\"artifacts_demo_report.md\", \"w\", encoding=\"utf-8\") as f:\n",
    "    f.write(md)\n",
    "print(\"Saved artifacts_demo_report.md\")"
   ]
  }
 ],
 "metadata": {
  "kernelspec": {
   "display_name": "Python 3",
   "language": "python",
   "name": "python3"
  },
  "language_info": {
   "name": "python",
   "version": "3.12"
  }
 },
 "nbformat": 4,
 "nbformat_minor": 5
}
