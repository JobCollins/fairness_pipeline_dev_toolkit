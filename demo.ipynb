{
 "cells": [
  {
   "cell_type": "markdown",
   "id": "2ee83ec4",
   "metadata": {},
   "source": [
    "# Fairness Toolkit Demo (v0.1.0)\n",
    "\n",
    "This notebook demonstrates metric computation, simple reporting, and optional MLflow logging for the Measurement Module."
   ]
  },
  {
   "cell_type": "code",
   "execution_count": 1,
   "id": "eddb6ccd",
   "metadata": {},
   "outputs": [
    {
     "name": "stdout",
     "output_type": "stream",
     "text": [
      "Versions:\n",
      "fairness_pipeline_dev_toolkit: 0.1.0\n",
      "python: 3.12.5 (main, Aug  6 2024, 19:08:49) [Clang 15.0.0 (clang-1500.3.9.4)]\n"
     ]
    }
   ],
   "source": [
    "import numpy as np\n",
    "import pandas as pd\n",
    "from fairness_pipeline_dev_toolkit.metrics import FairnessAnalyzer\n",
    "from fairness_pipeline_dev_toolkit.integration.reporting import to_markdown_report\n",
    "\n",
    "print(\"Versions:\")\n",
    "import fairness_pipeline_dev_toolkit as fpt\n",
    "print(\"fairness_pipeline_dev_toolkit:\", getattr(fpt, \"__version__\", \"dev\"))\n",
    "import sys\n",
    "print(\"python:\", sys.version)\n"
   ]
  },
  {
   "cell_type": "markdown",
   "id": "0059f215",
   "metadata": {},
   "source": [
    "## Load Sample Data\n",
    "You can adjust this path to point at a real dataset later."
   ]
  },
  {
   "cell_type": "code",
   "execution_count": 5,
   "id": "8e1de977",
   "metadata": {},
   "outputs": [],
   "source": [
    "import os\n",
    "import matplotlib.pyplot as plt\n",
    "\n",
    "\n",
    "path = \"dev_sample.csv\" if os.path.exists(\"dev_sample.csv\") else \"dev_sample.csv\"\n",
    "df = pd.read_csv(path)\n",
    "df.head()\n",
    "assert {\"y_true\", \"y_pred\", \"sensitive\"}.issubset(df.columns)\n"
   ]
  },
  {
   "cell_type": "markdown",
   "id": "3ebfcd7a",
   "metadata": {},
   "source": [
    "## Compute Metrics\n",
    "- `demographic_parity_difference` (classification)\n",
    "- `equalized_odds_difference` (classification)\n",
    "- `mae_parity_difference` (regression-style using `score` vs `y_true`)"
   ]
  },
  {
   "cell_type": "code",
   "execution_count": 6,
   "id": "992d83f0",
   "metadata": {},
   "outputs": [
    {
     "data": {
      "text/plain": [
       "{'demographic_parity_difference': Result(metric='demographic_parity_difference', value=0.3, ci=None, effect_size=None, n_per_group={'A': 98, 'B': 62, 'C': 40}),\n",
       " 'equalized_odds_difference': Result(metric='equalized_odds_difference', value=0.3956043956043956, ci=None, effect_size=None, n_per_group={'A': 98, 'B': 62, 'C': 40}),\n",
       " 'mae_parity_difference': Result(metric='mae_parity_difference', value=0.06853588708550895, ci=None, effect_size=None, n_per_group={'A': 98, 'B': 62, 'C': 40})}"
      ]
     },
     "execution_count": 6,
     "metadata": {},
     "output_type": "execute_result"
    }
   ],
   "source": [
    "fa = FairnessAnalyzer(min_group_size=2, backend=\"native\")\n",
    "results = {}\n",
    "results[\"demographic_parity_difference\"] = fa.demographic_parity_difference(\n",
    "    y_pred=df[\"y_pred\"].to_numpy(), sensitive=df[\"sensitive\"].to_numpy()\n",
    ")\n",
    "results[\"equalized_odds_difference\"] = fa.equalized_odds_difference(\n",
    "    y_true=df[\"y_true\"].to_numpy(), y_pred=df[\"y_pred\"].to_numpy(), sensitive=df[\"sensitive\"].to_numpy()\n",
    ")\n",
    "results[\"mae_parity_difference\"] = fa.mae_parity_difference(\n",
    "    y_true=df[\"y_true\"].to_numpy().astype(float),\n",
    "    y_pred=df[\"score\"].to_numpy().astype(float),\n",
    "    sensitive=df[\"sensitive\"].to_numpy(),\n",
    ")\n",
    "results"
   ]
  },
  {
   "cell_type": "code",
   "execution_count": 7,
   "id": "777bfdc1",
   "metadata": {},
   "outputs": [],
   "source": [
    "def bootstrap_ci(values, stat_fn, B=2000, level=0.95, rng=None):\n",
    "    \"\"\"Generic bootstrap CI for a 1D array using percentile method.\"\"\"\n",
    "    x = np.asarray(values)\n",
    "    if rng is None:\n",
    "        rng = np.random.default_rng(42)\n",
    "    n = len(x)\n",
    "    if n == 0:\n",
    "        return (np.nan, np.nan)\n",
    "    stats = np.empty(B, dtype=float)\n",
    "    for b in range(B):\n",
    "        sample = x[rng.integers(0, n, n)]\n",
    "        stats[b] = stat_fn(sample)\n",
    "    lo = np.percentile(stats, (1 - level) / 2 * 100)\n",
    "    hi = np.percentile(stats, (1 + level) / 2 * 100)\n",
    "    return float(lo), float(hi)\n",
    "\n",
    "def approval_rate(arr):\n",
    "    \"\"\"Mean of binary predictions (selection rate).\"\"\"\n",
    "    a = np.asarray(arr)\n",
    "    return float(a.mean()) if len(a) else np.nan\n"
   ]
  },
  {
   "cell_type": "code",
   "execution_count": 8,
   "id": "7d3d6d06",
   "metadata": {},
   "outputs": [
    {
     "data": {
      "text/html": [
       "<div>\n",
       "<style scoped>\n",
       "    .dataframe tbody tr th:only-of-type {\n",
       "        vertical-align: middle;\n",
       "    }\n",
       "\n",
       "    .dataframe tbody tr th {\n",
       "        vertical-align: top;\n",
       "    }\n",
       "\n",
       "    .dataframe thead th {\n",
       "        text-align: right;\n",
       "    }\n",
       "</style>\n",
       "<table border=\"1\" class=\"dataframe\">\n",
       "  <thead>\n",
       "    <tr style=\"text-align: right;\">\n",
       "      <th></th>\n",
       "      <th>group</th>\n",
       "      <th>rate</th>\n",
       "      <th>ci_lo</th>\n",
       "      <th>ci_hi</th>\n",
       "      <th>n</th>\n",
       "    </tr>\n",
       "  </thead>\n",
       "  <tbody>\n",
       "    <tr>\n",
       "      <th>2</th>\n",
       "      <td>A</td>\n",
       "      <td>0.408163</td>\n",
       "      <td>0.306122</td>\n",
       "      <td>0.500000</td>\n",
       "      <td>98</td>\n",
       "    </tr>\n",
       "    <tr>\n",
       "      <th>0</th>\n",
       "      <td>B</td>\n",
       "      <td>0.500000</td>\n",
       "      <td>0.370968</td>\n",
       "      <td>0.629032</td>\n",
       "      <td>62</td>\n",
       "    </tr>\n",
       "    <tr>\n",
       "      <th>1</th>\n",
       "      <td>C</td>\n",
       "      <td>0.200000</td>\n",
       "      <td>0.075000</td>\n",
       "      <td>0.325000</td>\n",
       "      <td>40</td>\n",
       "    </tr>\n",
       "  </tbody>\n",
       "</table>\n",
       "</div>"
      ],
      "text/plain": [
       "  group      rate     ci_lo     ci_hi   n\n",
       "2     A  0.408163  0.306122  0.500000  98\n",
       "0     B  0.500000  0.370968  0.629032  62\n",
       "1     C  0.200000  0.075000  0.325000  40"
      ]
     },
     "execution_count": 8,
     "metadata": {},
     "output_type": "execute_result"
    }
   ],
   "source": [
    "level = 0.95\n",
    "groups = df[\"sensitive\"].astype(str).unique()\n",
    "\n",
    "rows = []\n",
    "for g in groups:\n",
    "    yp_g = df.loc[df[\"sensitive\"] == g, \"y_pred\"].to_numpy()\n",
    "    rate = approval_rate(yp_g)\n",
    "    lo, hi = bootstrap_ci(yp_g, approval_rate, B=2000, level=level)\n",
    "    rows.append({\"group\": g, \"rate\": rate, \"ci_lo\": lo, \"ci_hi\": hi, \"n\": len(yp_g)})\n",
    "\n",
    "dp_tbl = pd.DataFrame(rows).sort_values(\"group\")\n",
    "dp_tbl\n"
   ]
  },
  {
   "cell_type": "code",
   "execution_count": 9,
   "id": "977c3e95",
   "metadata": {},
   "outputs": [
    {
     "data": {
      "image/png": "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",
      "text/plain": [
       "<Figure size 700x400 with 1 Axes>"
      ]
     },
     "metadata": {},
     "output_type": "display_data"
    }
   ],
   "source": [
    "# Bar chart with 95% CI whiskers\n",
    "plt.figure(figsize=(7,4))\n",
    "x = np.arange(len(dp_tbl))\n",
    "y = dp_tbl[\"rate\"].to_numpy()\n",
    "yerr = np.vstack((y - dp_tbl[\"ci_lo\"].to_numpy(), dp_tbl[\"ci_hi\"].to_numpy() - y))\n",
    "plt.bar(x, y)\n",
    "plt.errorbar(x, y, yerr=yerr, fmt=\"none\", capsize=4)\n",
    "plt.xticks(x, dp_tbl[\"group\"].tolist())\n",
    "plt.ylabel(\"Selection rate\")\n",
    "plt.title(\"Demographic Parity: selection rates by group (95% CI)\")\n",
    "plt.tight_layout()\n",
    "plt.show()\n"
   ]
  },
  {
   "cell_type": "code",
   "execution_count": 10,
   "id": "73380ced",
   "metadata": {},
   "outputs": [
    {
     "data": {
      "text/html": [
       "<div>\n",
       "<style scoped>\n",
       "    .dataframe tbody tr th:only-of-type {\n",
       "        vertical-align: middle;\n",
       "    }\n",
       "\n",
       "    .dataframe tbody tr th {\n",
       "        vertical-align: top;\n",
       "    }\n",
       "\n",
       "    .dataframe thead th {\n",
       "        text-align: right;\n",
       "    }\n",
       "</style>\n",
       "<table border=\"1\" class=\"dataframe\">\n",
       "  <thead>\n",
       "    <tr style=\"text-align: right;\">\n",
       "      <th></th>\n",
       "      <th>group</th>\n",
       "      <th>TPR</th>\n",
       "      <th>TPR_lo</th>\n",
       "      <th>TPR_hi</th>\n",
       "      <th>n_pos</th>\n",
       "      <th>FPR</th>\n",
       "      <th>FPR_lo</th>\n",
       "      <th>FPR_hi</th>\n",
       "      <th>n_neg</th>\n",
       "    </tr>\n",
       "  </thead>\n",
       "  <tbody>\n",
       "    <tr>\n",
       "      <th>2</th>\n",
       "      <td>A</td>\n",
       "      <td>0.391304</td>\n",
       "      <td>0.260870</td>\n",
       "      <td>0.543478</td>\n",
       "      <td>46</td>\n",
       "      <td>0.423077</td>\n",
       "      <td>0.288462</td>\n",
       "      <td>0.557692</td>\n",
       "      <td>52</td>\n",
       "    </tr>\n",
       "    <tr>\n",
       "      <th>0</th>\n",
       "      <td>B</td>\n",
       "      <td>0.472222</td>\n",
       "      <td>0.305556</td>\n",
       "      <td>0.638889</td>\n",
       "      <td>36</td>\n",
       "      <td>0.538462</td>\n",
       "      <td>0.346154</td>\n",
       "      <td>0.730769</td>\n",
       "      <td>26</td>\n",
       "    </tr>\n",
       "    <tr>\n",
       "      <th>1</th>\n",
       "      <td>C</td>\n",
       "      <td>0.263158</td>\n",
       "      <td>0.105263</td>\n",
       "      <td>0.473684</td>\n",
       "      <td>19</td>\n",
       "      <td>0.142857</td>\n",
       "      <td>0.000000</td>\n",
       "      <td>0.285714</td>\n",
       "      <td>21</td>\n",
       "    </tr>\n",
       "  </tbody>\n",
       "</table>\n",
       "</div>"
      ],
      "text/plain": [
       "  group       TPR    TPR_lo    TPR_hi  n_pos       FPR    FPR_lo    FPR_hi  \\\n",
       "2     A  0.391304  0.260870  0.543478     46  0.423077  0.288462  0.557692   \n",
       "0     B  0.472222  0.305556  0.638889     36  0.538462  0.346154  0.730769   \n",
       "1     C  0.263158  0.105263  0.473684     19  0.142857  0.000000  0.285714   \n",
       "\n",
       "   n_neg  \n",
       "2     52  \n",
       "0     26  \n",
       "1     21  "
      ]
     },
     "execution_count": 10,
     "metadata": {},
     "output_type": "execute_result"
    }
   ],
   "source": [
    "def tpr_from(df_g):\n",
    "    pos = df_g.loc[df_g[\"y_true\"] == 1, \"y_pred\"].to_numpy()\n",
    "    return float(pos.mean()) if len(pos) else np.nan\n",
    "\n",
    "def fpr_from(df_g):\n",
    "    neg = df_g.loc[df_g[\"y_true\"] == 0, \"y_pred\"].to_numpy()\n",
    "    return float(neg.mean()) if len(neg) else np.nan\n",
    "\n",
    "def tpr_ci(df_g, B=2000, level=0.95):\n",
    "    pos = df_g.loc[df_g[\"y_true\"] == 1, \"y_pred\"].to_numpy()\n",
    "    return bootstrap_ci(pos, np.mean, B=B, level=level) if len(pos) else (np.nan, np.nan)\n",
    "\n",
    "def fpr_ci(df_g, B=2000, level=0.95):\n",
    "    neg = df_g.loc[df_g[\"y_true\"] == 0, \"y_pred\"].to_numpy()\n",
    "    return bootstrap_ci(neg, np.mean, B=B, level=level) if len(neg) else (np.nan, np.nan)\n",
    "\n",
    "rows = []\n",
    "for g in groups:\n",
    "    gdf = df.loc[df[\"sensitive\"] == g]\n",
    "    tpr = tpr_from(gdf)\n",
    "    fpr = fpr_from(gdf)\n",
    "    t_lo, t_hi = tpr_ci(gdf, B=2000, level=0.95)\n",
    "    f_lo, f_hi = fpr_ci(gdf, B=2000, level=0.95)\n",
    "    rows.append({\n",
    "        \"group\": g,\n",
    "        \"TPR\": tpr, \"TPR_lo\": t_lo, \"TPR_hi\": t_hi, \"n_pos\": int((gdf[\"y_true\"]==1).sum()),\n",
    "        \"FPR\": fpr, \"FPR_lo\": f_lo, \"FPR_hi\": f_hi, \"n_neg\": int((gdf[\"y_true\"]==0).sum()),\n",
    "    })\n",
    "\n",
    "eo_tbl = pd.DataFrame(rows).sort_values(\"group\")\n",
    "eo_tbl\n"
   ]
  },
  {
   "cell_type": "code",
   "execution_count": 11,
   "id": "b9f559c2",
   "metadata": {},
   "outputs": [
    {
     "data": {
      "image/png": "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",
      "text/plain": [
       "<Figure size 700x400 with 1 Axes>"
      ]
     },
     "metadata": {},
     "output_type": "display_data"
    },
    {
     "data": {
      "image/png": "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",
      "text/plain": [
       "<Figure size 700x400 with 1 Axes>"
      ]
     },
     "metadata": {},
     "output_type": "display_data"
    }
   ],
   "source": [
    "# Plot TPR per group\n",
    "plt.figure(figsize=(7,4))\n",
    "x = np.arange(len(eo_tbl))\n",
    "y = eo_tbl[\"TPR\"].to_numpy()\n",
    "yerr = np.vstack((y - eo_tbl[\"TPR_lo\"].to_numpy(), eo_tbl[\"TPR_hi\"].to_numpy() - y))\n",
    "plt.bar(x, y)\n",
    "plt.errorbar(x, y, yerr=yerr, fmt=\"none\", capsize=4)\n",
    "plt.xticks(x, eo_tbl[\"group\"].tolist())\n",
    "plt.ylabel(\"True Positive Rate\")\n",
    "plt.title(\"Equalized Odds: TPR by group (95% CI)\")\n",
    "plt.tight_layout()\n",
    "plt.show()\n",
    "\n",
    "# Plot FPR per group (separate chart)\n",
    "plt.figure(figsize=(7,4))\n",
    "x = np.arange(len(eo_tbl))\n",
    "y = eo_tbl[\"FPR\"].to_numpy()\n",
    "yerr = np.vstack((y - eo_tbl[\"FPR_lo\"].to_numpy(), eo_tbl[\"FPR_hi\"].to_numpy() - y))\n",
    "plt.bar(x, y)\n",
    "plt.errorbar(x, y, yerr=yerr, fmt=\"none\", capsize=4)\n",
    "plt.xticks(x, eo_tbl[\"group\"].tolist())\n",
    "plt.ylabel(\"False Positive Rate\")\n",
    "plt.title(\"Equalized Odds: FPR by group (95% CI)\")\n",
    "plt.tight_layout()\n",
    "plt.show()\n"
   ]
  },
  {
   "cell_type": "markdown",
   "id": "c80191ce",
   "metadata": {},
   "source": [
    "## Markdown Report\n",
    "A quick human-readable summary for PRs or artifacts."
   ]
  },
  {
   "cell_type": "code",
   "execution_count": 4,
   "id": "8614ab4b",
   "metadata": {},
   "outputs": [
    {
     "name": "stdout",
     "output_type": "stream",
     "text": [
      "# Fairness Demo Report\n",
      "\n",
      "_Generated: 2025-10-30 13:23:54 UTC_\n",
      "\n",
      "| Metric | Value | CI (95%) | Effect Size | n_per_group |\n",
      "|---|---:|---|---:|---|\n",
      "| `demographic_parity_difference` | 0.200000 | — | None | {\"A\": 5, \"B\": 5} |\n",
      "| `equalized_odds_difference` | 0.666667 | — | None | {\"A\": 5, \"B\": 5} |\n",
      "| `mae_parity_difference` | 0.162000 | — | None | {\"A\": 5, \"B\": 5} |\n",
      "\n",
      "> Note: `—` indicates unavailable due to insufficient data or configuration.\n",
      "Saved artifacts_demo_report.md\n"
     ]
    }
   ],
   "source": [
    "md = to_markdown_report(results, title=\"Fairness Demo Report\")\n",
    "print(md)\n",
    "\n",
    "# Optional: save\n",
    "with open(\"artifacts_demo_report.md\", \"w\", encoding=\"utf-8\") as f:\n",
    "    f.write(md)\n",
    "print(\"Saved artifacts_demo_report.md\")"
   ]
  },
  {
   "cell_type": "code",
   "execution_count": null,
   "id": "480adde0",
   "metadata": {},
   "outputs": [],
   "source": []
  }
 ],
 "metadata": {
  "kernelspec": {
   "display_name": ".venv",
   "language": "python",
   "name": "python3"
  },
  "language_info": {
   "codemirror_mode": {
    "name": "ipython",
    "version": 3
   },
   "file_extension": ".py",
   "mimetype": "text/x-python",
   "name": "python",
   "nbconvert_exporter": "python",
   "pygments_lexer": "ipython3",
   "version": "3.12.5"
  }
 },
 "nbformat": 4,
 "nbformat_minor": 5
},
{
 "cells": [
  {
   "cell_type": "code",
   "execution_count": null,
   "id": "intro",
   "metadata": {},
   "outputs": [],
   "source": [
    "# Demo: Fairness Pipeline Development Toolkit (Measurement + Pipeline)\n",
    "from pathlib import Path\n",
    "import json\n",
    "import pandas as pd\n",
    "\n",
    "from fairness_pipeline_dev_toolkit.pipeline.config.loader import load_config, PipelineConfig\n",
    "from fairness_pipeline_dev_toolkit.pipeline.orchestration.engine import run_detectors, build_pipeline, apply_pipeline\n",
    "\n",
    "print(\"Toolkit imports OK.\")"
   ]
  },
  {
   "cell_type": "code",
   "execution_count": null,
   "id": "dataframe",
   "metadata": {},
   "outputs": [],
   "source": [
    "# Prepare a small demo dataframe\n",
    "df = pd.DataFrame({\n",
    "    \"group\": [\"A\",\"A\",\"B\",\"B\",\"A\",\"B\",\"A\",\"B\",\"A\",\"B\"],\n",
    "    \"x1\":    [0.1,0.2,0.3,0.4,0.15,0.35,0.12,0.33,0.18,0.28],\n",
    "    \"x2\":    [1,2,3,3,2,3,1,2,2,3],\n",
    "    \"y\":     [0,1,0,1,0,1,0,1,0,1],\n",
    "})\n",
    "df.head()"
   ]
  },
  {
   "cell_type": "code",
   "execution_count": null,
   "id": "config",
   "metadata": {},
   "outputs": [],
   "source": [
    "# Build a config in-memory (mirrors your YAML schema)\n",
    "cfg_text = '''\n",
    "sensitive: [\"group\"]\n",
    "alpha: 0.05\n",
    "proxy_threshold: 0.30\n",
    "report_out: \"artifacts_demo_report.json\"\n",
    "benchmarks:\n",
    "  group: {A: 0.5, B: 0.5}\n",
    "pipeline:\n",
    "  - name: reweigh\n",
    "    transformer: \"InstanceReweighting\"\n",
    "    params: {}\n",
    "  - name: di\n",
    "    transformer: \"DisparateImpactRemover\"\n",
    "    params:\n",
    "      features: [\"x1\"]\n",
    "      sensitive: \"group\"\n",
    "      repair_level: 0.8\n",
    "'''\n",
    "cfg = load_config(text=cfg_text)\n",
    "cfg"
   ]
  },
  {
   "cell_type": "code",
   "execution_count": null,
   "id": "detectors",
   "metadata": {},
   "outputs": [],
   "source": [
    "# Run detectors (representation / disparities / proxies)\n",
    "det_report = run_detectors(df, cfg)\n",
    "print(json.dumps(det_report.to_dict(), indent=2)[:1000] + \"\\n...\")"
   ]
  },
  {
   "cell_type": "code",
   "execution_count": null,
   "id": "pipeline",
   "metadata": {},
   "outputs": [],
   "source": [
    "# Build and apply pipeline\n",
    "pipe = build_pipeline(cfg)\n",
    "df_out, artifacts = apply_pipeline(pipe, df)\n",
    "print(\"Transformed shape:\", df_out.shape)\n",
    "print(\"Artifacts:\", artifacts)\n",
    "df_out.head()"
   ]
  },
  {
   "cell_type": "code",
   "execution_count": null,
   "id": "mlflow",
   "metadata": {},
   "outputs": [],
   "source": [
    "# Optional: log to MLflow if available\n",
    "try:\n",
    "    import mlflow\n",
    "    from fairness_pipeline_dev_toolkit.integration.mlflow_logger import log_fairness\n",
    "\n",
    "    mlflow.set_experiment(\"fairness_demo\")\n",
    "    with mlflow.start_run(run_name=\"phase5_demo\"):\n",
    "        log_fairness(det_report.to_dict())\n",
    "    print(\"Logged fairness report to MLflow run.\")\n",
    "except Exception as e:\n",
    "    print(\"MLflow not available or logging failed (skipped):\", e)"
   ]
  }
 ],
 "metadata": {
  "kernelspec": {
   "display_name": "Python 3",
   "language": "python",
   "name": "python3"
  },
  "language_info": {
   "name": "python",
   "version": "3.12"
  }
 },
 "nbformat": 4,
 "nbformat_minor": 5
}
