{
 "cells": [
  {
   "cell_type": "markdown",
   "id": "2ee83ec4",
   "metadata": {},
   "source": [
    "# Fairness Toolkit Demo (v0.1.0)\n",
    "\n",
    "This notebook demonstrates metric computation, simple reporting, and optional MLflow logging for the Measurement Module."
   ]
  },
  {
   "cell_type": "code",
   "execution_count": 1,
   "id": "eddb6ccd",
   "metadata": {},
   "outputs": [
    {
     "name": "stdout",
     "output_type": "stream",
     "text": [
      "Versions:\n",
      "fairness_pipeline_dev_toolkit: 0.1.0\n",
      "python: 3.12.5 (main, Aug  6 2024, 19:08:49) [Clang 15.0.0 (clang-1500.3.9.4)]\n"
     ]
    }
   ],
   "source": [
    "import numpy as np\n",
    "import pandas as pd\n",
    "from fairness_pipeline_dev_toolkit.metrics import FairnessAnalyzer\n",
    "from fairness_pipeline_dev_toolkit.integration.reporting import to_markdown_report\n",
    "\n",
    "print(\"Versions:\")\n",
    "import fairness_pipeline_dev_toolkit as fpt\n",
    "print(\"fairness_pipeline_dev_toolkit:\", getattr(fpt, \"__version__\", \"dev\"))\n",
    "import sys\n",
    "print(\"python:\", sys.version)\n"
   ]
  },
  {
   "cell_type": "markdown",
   "id": "0059f215",
   "metadata": {},
   "source": [
    "## Load Sample Data\n",
    "You can adjust this path to point at a real dataset later."
   ]
  },
  {
   "cell_type": "code",
   "execution_count": 2,
   "id": "8e1de977",
   "metadata": {},
   "outputs": [
    {
     "data": {
      "text/html": [
       "<div>\n",
       "<style scoped>\n",
       "    .dataframe tbody tr th:only-of-type {\n",
       "        vertical-align: middle;\n",
       "    }\n",
       "\n",
       "    .dataframe tbody tr th {\n",
       "        vertical-align: top;\n",
       "    }\n",
       "\n",
       "    .dataframe thead th {\n",
       "        text-align: right;\n",
       "    }\n",
       "</style>\n",
       "<table border=\"1\" class=\"dataframe\">\n",
       "  <thead>\n",
       "    <tr style=\"text-align: right;\">\n",
       "      <th></th>\n",
       "      <th>y_true</th>\n",
       "      <th>y_pred</th>\n",
       "      <th>group</th>\n",
       "      <th>score</th>\n",
       "    </tr>\n",
       "  </thead>\n",
       "  <tbody>\n",
       "    <tr>\n",
       "      <th>0</th>\n",
       "      <td>1</td>\n",
       "      <td>1</td>\n",
       "      <td>A</td>\n",
       "      <td>0.78</td>\n",
       "    </tr>\n",
       "    <tr>\n",
       "      <th>1</th>\n",
       "      <td>0</td>\n",
       "      <td>0</td>\n",
       "      <td>A</td>\n",
       "      <td>0.12</td>\n",
       "    </tr>\n",
       "    <tr>\n",
       "      <th>2</th>\n",
       "      <td>1</td>\n",
       "      <td>1</td>\n",
       "      <td>A</td>\n",
       "      <td>0.66</td>\n",
       "    </tr>\n",
       "    <tr>\n",
       "      <th>3</th>\n",
       "      <td>0</td>\n",
       "      <td>1</td>\n",
       "      <td>B</td>\n",
       "      <td>0.41</td>\n",
       "    </tr>\n",
       "    <tr>\n",
       "      <th>4</th>\n",
       "      <td>1</td>\n",
       "      <td>0</td>\n",
       "      <td>B</td>\n",
       "      <td>0.59</td>\n",
       "    </tr>\n",
       "  </tbody>\n",
       "</table>\n",
       "</div>"
      ],
      "text/plain": [
       "   y_true  y_pred group  score\n",
       "0       1       1     A   0.78\n",
       "1       0       0     A   0.12\n",
       "2       1       1     A   0.66\n",
       "3       0       1     B   0.41\n",
       "4       1       0     B   0.59"
      ]
     },
     "execution_count": 2,
     "metadata": {},
     "output_type": "execute_result"
    }
   ],
   "source": [
    "import os\n",
    "path = \"tests/fixtures/e2e_sample.csv\" if os.path.exists(\"tests/fixtures/e2e_sample.csv\") else \"dev_sample.csv\"\n",
    "df = pd.read_csv(path)\n",
    "df.head()"
   ]
  },
  {
   "cell_type": "markdown",
   "id": "3ebfcd7a",
   "metadata": {},
   "source": [
    "## Compute Metrics\n",
    "- `demographic_parity_difference` (classification)\n",
    "- `equalized_odds_difference` (classification)\n",
    "- `mae_parity_difference` (regression-style using `score` vs `y_true`)"
   ]
  },
  {
   "cell_type": "code",
   "execution_count": 3,
   "id": "992d83f0",
   "metadata": {},
   "outputs": [
    {
     "data": {
      "text/plain": [
       "{'demographic_parity_difference': Result(metric='demographic_parity_difference', value=0.19999999999999996, ci=None, effect_size=None, n_per_group={'A': 5, 'B': 5}),\n",
       " 'equalized_odds_difference': Result(metric='equalized_odds_difference', value=0.6666666666666667, ci=None, effect_size=None, n_per_group={'A': 5, 'B': 5}),\n",
       " 'mae_parity_difference': Result(metric='mae_parity_difference', value=0.16199999999999998, ci=None, effect_size=None, n_per_group={'A': 5, 'B': 5})}"
      ]
     },
     "execution_count": 3,
     "metadata": {},
     "output_type": "execute_result"
    }
   ],
   "source": [
    "fa = FairnessAnalyzer(min_group_size=2, backend=\"native\")\n",
    "results = {}\n",
    "results[\"demographic_parity_difference\"] = fa.demographic_parity_difference(\n",
    "    y_pred=df[\"y_pred\"].to_numpy(), sensitive=df[\"group\"].to_numpy()\n",
    ")\n",
    "results[\"equalized_odds_difference\"] = fa.equalized_odds_difference(\n",
    "    y_true=df[\"y_true\"].to_numpy(), y_pred=df[\"y_pred\"].to_numpy(), sensitive=df[\"group\"].to_numpy()\n",
    ")\n",
    "results[\"mae_parity_difference\"] = fa.mae_parity_difference(\n",
    "    y_true=df[\"y_true\"].to_numpy().astype(float),\n",
    "    y_pred=df[\"score\"].to_numpy().astype(float),\n",
    "    sensitive=df[\"group\"].to_numpy(),\n",
    ")\n",
    "results"
   ]
  },
  {
   "cell_type": "markdown",
   "id": "c80191ce",
   "metadata": {},
   "source": [
    "## Markdown Report\n",
    "A quick human-readable summary for PRs or artifacts."
   ]
  },
  {
   "cell_type": "code",
   "execution_count": 4,
   "id": "8614ab4b",
   "metadata": {},
   "outputs": [
    {
     "name": "stdout",
     "output_type": "stream",
     "text": [
      "# Fairness Demo Report\n",
      "\n",
      "_Generated: 2025-10-30 13:23:54 UTC_\n",
      "\n",
      "| Metric | Value | CI (95%) | Effect Size | n_per_group |\n",
      "|---|---:|---|---:|---|\n",
      "| `demographic_parity_difference` | 0.200000 | — | None | {\"A\": 5, \"B\": 5} |\n",
      "| `equalized_odds_difference` | 0.666667 | — | None | {\"A\": 5, \"B\": 5} |\n",
      "| `mae_parity_difference` | 0.162000 | — | None | {\"A\": 5, \"B\": 5} |\n",
      "\n",
      "> Note: `—` indicates unavailable due to insufficient data or configuration.\n",
      "Saved artifacts_demo_report.md\n"
     ]
    }
   ],
   "source": [
    "md = to_markdown_report(results, title=\"Fairness Demo Report\")\n",
    "print(md)\n",
    "\n",
    "# Optional: save\n",
    "with open(\"artifacts_demo_report.md\", \"w\", encoding=\"utf-8\") as f:\n",
    "    f.write(md)\n",
    "print(\"Saved artifacts_demo_report.md\")"
   ]
  },
  {
   "cell_type": "code",
   "execution_count": null,
   "id": "480adde0",
   "metadata": {},
   "outputs": [],
   "source": []
  }
 ],
 "metadata": {
  "kernelspec": {
   "display_name": ".venv",
   "language": "python",
   "name": "python3"
  },
  "language_info": {
   "codemirror_mode": {
    "name": "ipython",
    "version": 3
   },
   "file_extension": ".py",
   "mimetype": "text/x-python",
   "name": "python",
   "nbconvert_exporter": "python",
   "pygments_lexer": "ipython3",
   "version": "3.12.5"
  }
 },
 "nbformat": 4,
 "nbformat_minor": 5
}
